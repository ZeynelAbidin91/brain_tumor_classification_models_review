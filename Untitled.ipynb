{
 "cells": [
  {
   "cell_type": "markdown",
   "id": "aboriginal-double",
   "metadata": {},
   "source": [
    "# Brain Tumor Classification "
   ]
  },
  {
   "cell_type": "markdown",
   "id": "animal-kernel",
   "metadata": {},
   "source": [
    "## 1. Project Overview And Objectives\n",
    "\n"
   ]
  },
  {
   "cell_type": "markdown",
   "id": "electrical-athens",
   "metadata": {},
   "source": [
    "## 2. What is brain tumor?\n",
    "\n",
    "A brain tumor is a mass or growth of abnormal cells in your brain.\n",
    "\n",
    "Many different types of brain tumors exist. Some brain tumors are noncancerous (benign), and some brain tumors are cancerous (malignant). Brain tumors can begin in your brain (primary brain tumors), or cancer can begin in other parts of your body and spread to your brain as secondary (metastatic) brain tumors.\n",
    "\n",
    "How quickly a brain tumor grows can vary greatly. The growth rate as well as the location of a brain tumor determines how it will affect the function of your nervous system.\n",
    "\n",
    "Brain tumor treatment options depend on the type of brain tumor you have, as well as its size and location.\n",
    "\n",
    "https://www.mayoclinic.org/diseases-conditions/brain-tumor/symptoms-causes/syc-20350084#:~:text=A%20brain%20tumor%20is%20a,tumors%20are%20cancerous%20(malignant)"
   ]
  },
  {
   "cell_type": "markdown",
   "id": "occasional-understanding",
   "metadata": {},
   "source": [
    "<p>\n",
    "    <img src=\"mcdc7_brain_cancer-8col.webp\" width=\"200px\">\n",
    "    <em>Brain tumor Example</em>\n",
    "</p>"
   ]
  },
  {
   "cell_type": "markdown",
   "id": "favorite-forestry",
   "metadata": {},
   "source": [
    "## 3. Dataset\n",
    "\n",
    "https://www.kaggle.com/navoneel/brain-mri-images-for-brain-tumor-detection"
   ]
  },
  {
   "cell_type": "markdown",
   "id": "linear-interview",
   "metadata": {},
   "source": [
    "## 4. Import Necessary Packages"
   ]
  },
  {
   "cell_type": "code",
   "execution_count": 12,
   "id": "forward-spank",
   "metadata": {},
   "outputs": [
    {
     "name": "stderr",
     "output_type": "stream",
     "text": [
      "Using TensorFlow backend.\n"
     ]
    },
    {
     "data": {
      "text/html": [
       "        <script type=\"text/javascript\">\n",
       "        window.PlotlyConfig = {MathJaxConfig: 'local'};\n",
       "        if (window.MathJax) {MathJax.Hub.Config({SVG: {font: \"STIX-Web\"}});}\n",
       "        if (typeof require !== 'undefined') {\n",
       "        require.undef(\"plotly\");\n",
       "        requirejs.config({\n",
       "            paths: {\n",
       "                'plotly': ['https://cdn.plot.ly/plotly-latest.min']\n",
       "            }\n",
       "        });\n",
       "        require(['plotly'], function(Plotly) {\n",
       "            window._Plotly = Plotly;\n",
       "        });\n",
       "        }\n",
       "        </script>\n",
       "        "
      ]
     },
     "metadata": {},
     "output_type": "display_data"
    }
   ],
   "source": [
    "import numpy as np \n",
    "from tqdm import tqdm\n",
    "import cv2\n",
    "import os\n",
    "import shutil\n",
    "import itertools\n",
    "import imutils\n",
    "import matplotlib.pyplot as plt\n",
    "from sklearn.preprocessing import LabelBinarizer\n",
    "from sklearn.model_selection import train_test_split\n",
    "from sklearn.metrics import accuracy_score, confusion_matrix\n",
    "\n",
    "import plotly.graph_objs as go\n",
    "from plotly.offline import init_notebook_mode, iplot\n",
    "from plotly import tools\n",
    "\n",
    "from keras.preprocessing.image import ImageDataGenerator\n",
    "from keras.applications.vgg16 import VGG16, preprocess_input\n",
    "from keras.applications.densenet import DenseNet201\n",
    "from keras.applications.inception_v3 import InceptionV3\n",
    "from keras.applications.xception import Xception\n",
    "from keras.applications.mobilenet_v2 import MobileNetV2\n",
    "from keras import layers\n",
    "from keras.models import Model, Sequential\n",
    "from keras.optimizers import Adam, RMSprop\n",
    "from keras.callbacks import EarlyStopping\n",
    "\n",
    "init_notebook_mode(connected=True)\n",
    "RANDOM_SEED = 123"
   ]
  },
  {
   "cell_type": "markdown",
   "id": "personal-albany",
   "metadata": {},
   "source": [
    "## 5. Data Preprocessing "
   ]
  },
  {
   "cell_type": "code",
   "execution_count": 15,
   "id": "technical-bangladesh",
   "metadata": {},
   "outputs": [
    {
     "name": "stdout",
     "output_type": "stream",
     "text": [
      "98\n",
      "155\n"
     ]
    }
   ],
   "source": [
    "print(len(os.listdir('brain_tumor_dataset/no/')))\n",
    "print(len(os.listdir('brain_tumor_dataset/yes/')))"
   ]
  },
  {
   "cell_type": "code",
   "execution_count": null,
   "id": "comparative-photograph",
   "metadata": {},
   "outputs": [],
   "source": [
    "imgPath = ''"
   ]
  }
 ],
 "metadata": {
  "kernelspec": {
   "display_name": "Python 3.7 (tensorflow)",
   "language": "python",
   "name": "tensorflow"
  },
  "language_info": {
   "codemirror_mode": {
    "name": "ipython",
    "version": 3
   },
   "file_extension": ".py",
   "mimetype": "text/x-python",
   "name": "python",
   "nbconvert_exporter": "python",
   "pygments_lexer": "ipython3",
   "version": "3.7.10"
  }
 },
 "nbformat": 4,
 "nbformat_minor": 5
}
