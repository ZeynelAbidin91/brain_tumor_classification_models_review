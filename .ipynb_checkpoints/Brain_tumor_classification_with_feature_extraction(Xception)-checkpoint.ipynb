{
 "cells": [
  {
   "cell_type": "markdown",
   "id": "demographic-cleaner",
   "metadata": {},
   "source": [
    "## 1. Import Packages"
   ]
  },
  {
   "cell_type": "code",
   "execution_count": 5,
   "id": "moved-therapist",
   "metadata": {},
   "outputs": [],
   "source": [
    "import tensorflow as tf\n",
    "gpus = tf.config.experimental.list_physical_devices('GPU')\n",
    "if gpus:\n",
    "  try:\n",
    "    for gpu in gpus:\n",
    "      tf.config.experimental.set_memory_growth(gpu, True)\n",
    "  except RuntimeError as e:\n",
    "    print(e)"
   ]
  },
  {
   "cell_type": "code",
   "execution_count": 6,
   "id": "neither-correction",
   "metadata": {},
   "outputs": [
    {
     "data": {
      "text/html": [
       "        <script type=\"text/javascript\">\n",
       "        window.PlotlyConfig = {MathJaxConfig: 'local'};\n",
       "        if (window.MathJax) {MathJax.Hub.Config({SVG: {font: \"STIX-Web\"}});}\n",
       "        if (typeof require !== 'undefined') {\n",
       "        require.undef(\"plotly\");\n",
       "        requirejs.config({\n",
       "            paths: {\n",
       "                'plotly': ['https://cdn.plot.ly/plotly-latest.min']\n",
       "            }\n",
       "        });\n",
       "        require(['plotly'], function(Plotly) {\n",
       "            window._Plotly = Plotly;\n",
       "        });\n",
       "        }\n",
       "        </script>\n",
       "        "
      ]
     },
     "metadata": {},
     "output_type": "display_data"
    }
   ],
   "source": [
    "import numpy as np \n",
    "import pandas as pd\n",
    "import seaborn as sns\n",
    "from tqdm import tqdm\n",
    "import cv2\n",
    "import os\n",
    "import shutil\n",
    "import itertools\n",
    "import imutils\n",
    "import matplotlib.pyplot as plt\n",
    "from sklearn.preprocessing import LabelBinarizer\n",
    "from sklearn.model_selection import train_test_split\n",
    "from sklearn.metrics import accuracy_score, confusion_matrix\n",
    "\n",
    "import plotly.graph_objs as go\n",
    "from plotly.offline import init_notebook_mode, iplot\n",
    "from plotly import tools\n",
    "\n",
    "from keras import layers, models\n",
    "from keras.layers.normalization import BatchNormalization\n",
    "from keras.models import Sequential\n",
    "from keras.layers.core import Activation, Dense, Flatten, Dropout\n",
    "from keras.layers.convolutional import Conv2D, MaxPooling2D\n",
    "from keras import backend as K\n",
    "\n",
    "from keras.preprocessing.image import ImageDataGenerator\n",
    "from keras.applications.vgg16 import VGG16, preprocess_input\n",
    "from keras.applications import VGG19\n",
    "from keras.applications.resnet50 import ResNet50\n",
    "from keras.applications import ResNet101\n",
    "from keras.applications import DenseNet201, DenseNet169, DenseNet121\n",
    "from keras.applications import InceptionV3\n",
    "from keras.applications import InceptionResNetV2\n",
    "from keras.applications import Xception\n",
    "from keras.applications import MobileNetV2\n",
    "from keras.applications import MobileNet\n",
    "from keras import layers\n",
    "from keras.models import Model, Sequential\n",
    "from keras.optimizers import Adam, RMSprop\n",
    "from keras.callbacks import EarlyStopping\n",
    "import pandas as pd\n",
    "\n",
    "from sklearn.svm import SVC\n",
    "\n",
    "init_notebook_mode(connected=True)\n",
    "RANDOM_SEED = 123"
   ]
  },
  {
   "cell_type": "markdown",
   "id": "fancy-attribute",
   "metadata": {},
   "source": [
    "## 2. Data Augmentation"
   ]
  },
  {
   "cell_type": "code",
   "execution_count": 7,
   "id": "identical-lingerie",
   "metadata": {},
   "outputs": [],
   "source": [
    "train_path = 'splitted_brain_tumor_dataset/train/'\n",
    "val_path = 'splitted_brain_tumor_dataset/validation/'"
   ]
  },
  {
   "cell_type": "code",
   "execution_count": 8,
   "id": "important-subscription",
   "metadata": {},
   "outputs": [
    {
     "name": "stdout",
     "output_type": "stream",
     "text": [
      "Found 203 images belonging to 2 classes.\n",
      "Found 50 images belonging to 2 classes.\n"
     ]
    }
   ],
   "source": [
    "train_datagen = ImageDataGenerator(rescale = 1./255,\n",
    "    rotation_range=15,\n",
    "    width_shift_range=0.1,\n",
    "    height_shift_range=0.1,\n",
    "    shear_range=0.1,\n",
    "    brightness_range=[0.5, 1.5],\n",
    "    horizontal_flip=True,\n",
    "    vertical_flip=True)\n",
    "      \n",
    "val_datagen = ImageDataGenerator(rescale=1./255)\n",
    "\n",
    "train_generator = train_datagen.flow_from_directory(train_path,\n",
    "                                                   target_size=(150, 150),\n",
    "                                                   batch_size=1,\n",
    "                                                   class_mode='binary')\n",
    "\n",
    "val_generator = val_datagen.flow_from_directory(val_path,\n",
    "                                                  target_size=(150, 150),\n",
    "                                                  batch_size=1,\n",
    "                                                  class_mode='binary')"
   ]
  },
  {
   "cell_type": "markdown",
   "id": "fifth-persian",
   "metadata": {},
   "source": [
    "## 3. Load the Base Model"
   ]
  },
  {
   "cell_type": "code",
   "execution_count": 9,
   "id": "compound-manner",
   "metadata": {},
   "outputs": [],
   "source": [
    "IMG_SIZE = (150, 150)\n",
    "\n",
    "# loading base model\n",
    "def load_feature_extractor():\n",
    "    base_model = Xception(\n",
    "    weights='imagenet',\n",
    "    include_top=False,\n",
    "    input_shape=IMG_SIZE + (3,))\n",
    "    return base_model"
   ]
  },
  {
   "cell_type": "code",
   "execution_count": 10,
   "id": "processed-register",
   "metadata": {},
   "outputs": [],
   "source": [
    "model = load_feature_extractor()"
   ]
  },
  {
   "cell_type": "code",
   "execution_count": 11,
   "id": "closing-conservative",
   "metadata": {},
   "outputs": [],
   "source": [
    "def extract_feature(data_gen):\n",
    "    extracted_feature = []\n",
    "    features = model.predict_generator(data_gen, steps=len(data_gen))\n",
    "    \n",
    "    for feat in features:\n",
    "        feat = np.array(feat).flatten()\n",
    "        extracted_feature.append(feat)\n",
    "    \n",
    "    extracted_feature = np.array(extracted_feature)\n",
    "    #features = features.reshape(-1,1)\n",
    "    return extracted_feature"
   ]
  },
  {
   "cell_type": "code",
   "execution_count": 12,
   "id": "canadian-authentication",
   "metadata": {},
   "outputs": [],
   "source": [
    "features_X_train = extract_feature(train_generator)\n",
    "y_train = train_generator.classes\n",
    "features_X_test = extract_feature(val_generator)\n",
    "y_test = val_generator.classes"
   ]
  },
  {
   "cell_type": "markdown",
   "id": "professional-inclusion",
   "metadata": {},
   "source": [
    "## 4. Train on ML Models with extracted features"
   ]
  },
  {
   "cell_type": "markdown",
   "id": "cathedral-highway",
   "metadata": {},
   "source": [
    "### 4.1 SVM"
   ]
  },
  {
   "cell_type": "code",
   "execution_count": 13,
   "id": "musical-headline",
   "metadata": {},
   "outputs": [
    {
     "data": {
      "text/plain": [
       "SVC(random_state=0)"
      ]
     },
     "execution_count": 13,
     "metadata": {},
     "output_type": "execute_result"
    }
   ],
   "source": [
    "from sklearn.svm import SVC\n",
    "classifier_SVM = SVC(kernel = 'rbf', random_state = 0)\n",
    "classifier_SVM.fit(features_X_train, y_train)"
   ]
  },
  {
   "cell_type": "code",
   "execution_count": 14,
   "id": "former-running",
   "metadata": {},
   "outputs": [
    {
     "name": "stdout",
     "output_type": "stream",
     "text": [
      "SVM model accuracy is on train set  0.73\n",
      "SVM model accuracy is on test set  0.62\n"
     ]
    }
   ],
   "source": [
    "train_acc_SVM = classifier_SVM.score(features_X_train, y_train)\n",
    "test_acc_SVM = classifier_SVM.score(features_X_test, y_test)\n",
    "print('SVM model accuracy is on train set ', round(train_acc_SVM, 2))\n",
    "print('SVM model accuracy is on test set ', test_acc_SVM)"
   ]
  },
  {
   "cell_type": "code",
   "execution_count": 15,
   "id": "awful-package",
   "metadata": {},
   "outputs": [],
   "source": [
    "y_pred_SVM = classifier_SVM.predict(features_X_test)"
   ]
  },
  {
   "cell_type": "code",
   "execution_count": 16,
   "id": "young-fossil",
   "metadata": {},
   "outputs": [
    {
     "name": "stdout",
     "output_type": "stream",
     "text": [
      "Accuracy: 0.62\n",
      "ROC Area: 0.5\n",
      "Precision: 0.3844\n",
      "Recall: 0.62\n",
      "F1 Score: 0.4746\n",
      "Cohen Kappa Score: 0.0\n",
      "Matthews Corrcoef: 0.0\n",
      "\t\tClassification Report:\n",
      "               precision    recall  f1-score   support\n",
      "\n",
      "           0       0.00      0.00      0.00        19\n",
      "           1       0.62      1.00      0.77        31\n",
      "\n",
      "    accuracy                           0.62        50\n",
      "   macro avg       0.31      0.50      0.38        50\n",
      "weighted avg       0.38      0.62      0.47        50\n",
      "\n"
     ]
    },
    {
     "name": "stderr",
     "output_type": "stream",
     "text": [
      "C:\\Users\\zeyne\\miniconda3\\envs\\tensorflow\\lib\\site-packages\\sklearn\\metrics\\_classification.py:1245: UndefinedMetricWarning:\n",
      "\n",
      "Precision is ill-defined and being set to 0.0 in labels with no predicted samples. Use `zero_division` parameter to control this behavior.\n",
      "\n",
      "C:\\Users\\zeyne\\miniconda3\\envs\\tensorflow\\lib\\site-packages\\sklearn\\metrics\\_classification.py:870: RuntimeWarning:\n",
      "\n",
      "invalid value encountered in double_scalars\n",
      "\n",
      "C:\\Users\\zeyne\\miniconda3\\envs\\tensorflow\\lib\\site-packages\\sklearn\\metrics\\_classification.py:1245: UndefinedMetricWarning:\n",
      "\n",
      "Precision and F-score are ill-defined and being set to 0.0 in labels with no predicted samples. Use `zero_division` parameter to control this behavior.\n",
      "\n",
      "C:\\Users\\zeyne\\miniconda3\\envs\\tensorflow\\lib\\site-packages\\sklearn\\metrics\\_classification.py:1245: UndefinedMetricWarning:\n",
      "\n",
      "Precision and F-score are ill-defined and being set to 0.0 in labels with no predicted samples. Use `zero_division` parameter to control this behavior.\n",
      "\n",
      "C:\\Users\\zeyne\\miniconda3\\envs\\tensorflow\\lib\\site-packages\\sklearn\\metrics\\_classification.py:1245: UndefinedMetricWarning:\n",
      "\n",
      "Precision and F-score are ill-defined and being set to 0.0 in labels with no predicted samples. Use `zero_division` parameter to control this behavior.\n",
      "\n"
     ]
    }
   ],
   "source": [
    "from sklearn import metrics\n",
    "def print_performance_metrics(test_labels,predict):\n",
    "    print('Accuracy:', np.round(metrics.accuracy_score(test_labels, predict),4))\n",
    "    print('ROC Area:', np.round(metrics.roc_auc_score(test_labels, predict),4))\n",
    "    print('Precision:', np.round(metrics.precision_score(test_labels, predict,average='weighted'),4))\n",
    "    print('Recall:', np.round(metrics.recall_score(test_labels, predict,\n",
    "                                               average='weighted'),4))\n",
    "    print('F1 Score:', np.round(metrics.f1_score(test_labels, predict,\n",
    "                                               average='weighted'),4))\n",
    "    print('Cohen Kappa Score:', np.round(metrics.cohen_kappa_score(test_labels, predict),4))\n",
    "    print('Matthews Corrcoef:', np.round(metrics.matthews_corrcoef(test_labels, predict),4)) \n",
    "    print('\\t\\tClassification Report:\\n', metrics.classification_report(test_labels, predict))\n",
    "\n",
    "print_performance_metrics(y_test,y_pred_SVM)"
   ]
  },
  {
   "cell_type": "code",
   "execution_count": 17,
   "id": "excellent-scottish",
   "metadata": {},
   "outputs": [
    {
     "data": {
      "text/plain": [
       "<AxesSubplot:>"
      ]
     },
     "execution_count": 17,
     "metadata": {},
     "output_type": "execute_result"
    },
    {
     "data": {
      "image/png": "[encoded data removed]",
      "text/plain": [
       "<Figure size 432x288 with 2 Axes>"
      ]
     },
     "metadata": {
      "needs_background": "light"
     },
     "output_type": "display_data"
    }
   ],
   "source": [
    "sns.heatmap(confusion_matrix(y_test, y_pred_SVM), \n",
    "                cmap='Blues', annot=True)"
   ]
  },
  {
   "cell_type": "markdown",
   "id": "invalid-fellow",
   "metadata": {},
   "source": [
    "### 4.2 RANDOM FOREST"
   ]
  },
  {
   "cell_type": "code",
   "execution_count": 18,
   "id": "conditional-causing",
   "metadata": {},
   "outputs": [
    {
     "data": {
      "text/plain": [
       "RandomForestClassifier(criterion='entropy', n_estimators=800, random_state=0)"
      ]
     },
     "execution_count": 18,
     "metadata": {},
     "output_type": "execute_result"
    }
   ],
   "source": [
    "from sklearn.ensemble import RandomForestClassifier\n",
    "classifier_RF = RandomForestClassifier(n_estimators = 800, criterion = 'entropy',  random_state = 0)\n",
    "classifier_RF.fit(features_X_train, y_train)"
   ]
  },
  {
   "cell_type": "code",
   "execution_count": 19,
   "id": "super-reynolds",
   "metadata": {},
   "outputs": [
    {
     "name": "stdout",
     "output_type": "stream",
     "text": [
      "1.0\n",
      "0.56\n"
     ]
    }
   ],
   "source": [
    "train_acc_RF = classifier_RF.score(features_X_train, y_train)\n",
    "print(train_acc_RF)\n",
    "test_acc_RF = classifier_RF.score(features_X_test, y_test)\n",
    "print(test_acc_RF)"
   ]
  },
  {
   "cell_type": "code",
   "execution_count": 20,
   "id": "premium-madness",
   "metadata": {},
   "outputs": [
    {
     "name": "stdout",
     "output_type": "stream",
     "text": [
      "Accuracy: 0.56\n",
      "ROC Area: 0.4516\n",
      "Precision: 0.3694\n",
      "Recall: 0.56\n",
      "F1 Score: 0.4451\n",
      "Cohen Kappa Score: -0.1156\n",
      "Matthews Corrcoef: -0.1978\n",
      "\t\tClassification Report:\n",
      "               precision    recall  f1-score   support\n",
      "\n",
      "           0       0.00      0.00      0.00        19\n",
      "           1       0.60      0.90      0.72        31\n",
      "\n",
      "    accuracy                           0.56        50\n",
      "   macro avg       0.30      0.45      0.36        50\n",
      "weighted avg       0.37      0.56      0.45        50\n",
      "\n"
     ]
    }
   ],
   "source": [
    "y_pred_RF = classifier_RF.predict(features_X_test)\n",
    "print_performance_metrics(y_test,y_pred_RF)"
   ]
  },
  {
   "cell_type": "code",
   "execution_count": 21,
   "id": "amber-window",
   "metadata": {},
   "outputs": [
    {
     "data": {
      "text/plain": [
       "<AxesSubplot:>"
      ]
     },
     "execution_count": 21,
     "metadata": {},
     "output_type": "execute_result"
    },
    {
     "data": {
      "image/png": "[encoded data removed]",
      "text/plain": [
       "<Figure size 432x288 with 2 Axes>"
      ]
     },
     "metadata": {
      "needs_background": "light"
     },
     "output_type": "display_data"
    }
   ],
   "source": [
    "sns.heatmap(confusion_matrix(y_test, y_pred_RF), \n",
    "                cmap='Blues', annot=True)"
   ]
  },
  {
   "cell_type": "markdown",
   "id": "photographic-donna",
   "metadata": {},
   "source": [
    "### 4.3 ADABOOST"
   ]
  },
  {
   "cell_type": "code",
   "execution_count": 22,
   "id": "charitable-drain",
   "metadata": {},
   "outputs": [
    {
     "data": {
      "text/plain": [
       "AdaBoostClassifier(n_estimators=100)"
      ]
     },
     "execution_count": 22,
     "metadata": {},
     "output_type": "execute_result"
    }
   ],
   "source": [
    "from sklearn.ensemble import AdaBoostClassifier\n",
    "classifier_AB = AdaBoostClassifier(n_estimators = 100)\n",
    "classifier_AB.fit(features_X_train, y_train)"
   ]
  },
  {
   "cell_type": "code",
   "execution_count": 23,
   "id": "running-honey",
   "metadata": {},
   "outputs": [
    {
     "name": "stdout",
     "output_type": "stream",
     "text": [
      "1.0\n",
      "0.54\n"
     ]
    }
   ],
   "source": [
    "train_acc_AB = classifier_AB.score(features_X_train, y_train)\n",
    "print(train_acc_AB)\n",
    "test_acc_AB = classifier_AB.score(features_X_test, y_test)\n",
    "print(test_acc_AB)"
   ]
  },
  {
   "cell_type": "code",
   "execution_count": 24,
   "id": "final-witch",
   "metadata": {},
   "outputs": [
    {
     "name": "stdout",
     "output_type": "stream",
     "text": [
      "Accuracy: 0.54\n",
      "ROC Area: 0.466\n",
      "Precision: 0.486\n",
      "Recall: 0.54\n",
      "F1 Score: 0.4978\n",
      "Cohen Kappa Score: -0.0748\n",
      "Matthews Corrcoef: -0.0824\n",
      "\t\tClassification Report:\n",
      "               precision    recall  f1-score   support\n",
      "\n",
      "           0       0.30      0.16      0.21        19\n",
      "           1       0.60      0.77      0.68        31\n",
      "\n",
      "    accuracy                           0.54        50\n",
      "   macro avg       0.45      0.47      0.44        50\n",
      "weighted avg       0.49      0.54      0.50        50\n",
      "\n"
     ]
    }
   ],
   "source": [
    "y_pred_AB = classifier_AB.predict(features_X_test)\n",
    "print_performance_metrics(y_test,y_pred_AB)"
   ]
  },
  {
   "cell_type": "code",
   "execution_count": 25,
   "id": "functional-industry",
   "metadata": {},
   "outputs": [
    {
     "data": {
      "text/plain": [
       "<AxesSubplot:>"
      ]
     },
     "execution_count": 25,
     "metadata": {},
     "output_type": "execute_result"
    },
    {
     "data": {
      "image/png": "[encoded data removed]",
      "text/plain": [
       "<Figure size 432x288 with 2 Axes>"
      ]
     },
     "metadata": {
      "needs_background": "light"
     },
     "output_type": "display_data"
    }
   ],
   "source": [
    "sns.heatmap(confusion_matrix(y_test, y_pred_AB), \n",
    "                cmap='Blues', annot=True)"
   ]
  },
  {
   "cell_type": "markdown",
   "id": "floral-azerbaijan",
   "metadata": {},
   "source": [
    "### 4.4 KNN"
   ]
  },
  {
   "cell_type": "code",
   "execution_count": 26,
   "id": "interim-defense",
   "metadata": {},
   "outputs": [
    {
     "data": {
      "text/plain": [
       "KNeighborsClassifier(algorithm='ball_tree')"
      ]
     },
     "execution_count": 26,
     "metadata": {},
     "output_type": "execute_result"
    }
   ],
   "source": [
    "from sklearn.neighbors import KNeighborsClassifier\n",
    "classifier_kNN = KNeighborsClassifier(n_neighbors = 5, algorithm='ball_tree', leaf_size=30)\n",
    "classifier_kNN.fit(features_X_train, y_train)"
   ]
  },
  {
   "cell_type": "code",
   "execution_count": 27,
   "id": "referenced-replica",
   "metadata": {},
   "outputs": [
    {
     "name": "stdout",
     "output_type": "stream",
     "text": [
      "0.68\n",
      "0.6\n"
     ]
    }
   ],
   "source": [
    "train_acc_kNN = classifier_kNN.score(features_X_train, y_train)\n",
    "print(round(train_acc_kNN,2))\n",
    "test_acc_kNN = classifier_kNN.score(features_X_test, y_test)\n",
    "print(test_acc_kNN)"
   ]
  },
  {
   "cell_type": "code",
   "execution_count": 28,
   "id": "covered-pleasure",
   "metadata": {},
   "outputs": [
    {
     "name": "stdout",
     "output_type": "stream",
     "text": [
      "Accuracy: 0.6\n",
      "ROC Area: 0.5552\n",
      "Precision: 0.5848\n",
      "Recall: 0.6\n",
      "F1 Score: 0.5886\n",
      "Cohen Kappa Score: 0.115\n",
      "Matthews Corrcoef: 0.1169\n",
      "\t\tClassification Report:\n",
      "               precision    recall  f1-score   support\n",
      "\n",
      "           0       0.47      0.37      0.41        19\n",
      "           1       0.66      0.74      0.70        31\n",
      "\n",
      "    accuracy                           0.60        50\n",
      "   macro avg       0.56      0.56      0.55        50\n",
      "weighted avg       0.58      0.60      0.59        50\n",
      "\n"
     ]
    }
   ],
   "source": [
    "y_pred_kNN = classifier_kNN.predict(features_X_test)\n",
    "print_performance_metrics(y_test,y_pred_kNN)"
   ]
  },
  {
   "cell_type": "code",
   "execution_count": 29,
   "id": "vulnerable-valentine",
   "metadata": {},
   "outputs": [
    {
     "data": {
      "text/plain": [
       "<AxesSubplot:>"
      ]
     },
     "execution_count": 29,
     "metadata": {},
     "output_type": "execute_result"
    },
    {
     "data": {
      "image/png": "[encoded data removed]",
      "text/plain": [
       "<Figure size 432x288 with 2 Axes>"
      ]
     },
     "metadata": {
      "needs_background": "light"
     },
     "output_type": "display_data"
    }
   ],
   "source": [
    "sns.heatmap(confusion_matrix(y_test, y_pred_kNN), \n",
    "                cmap='Blues', annot=True)"
   ]
  },
  {
   "cell_type": "markdown",
   "id": "established-occurrence",
   "metadata": {},
   "source": [
    "### 4.5 XGBOOST"
   ]
  },
  {
   "cell_type": "code",
   "execution_count": 30,
   "id": "driven-latino",
   "metadata": {},
   "outputs": [
    {
     "name": "stderr",
     "output_type": "stream",
     "text": [
      "C:\\Users\\zeyne\\miniconda3\\envs\\tensorflow\\lib\\site-packages\\xgboost\\sklearn.py:888: UserWarning:\n",
      "\n",
      "The use of label encoder in XGBClassifier is deprecated and will be removed in a future release. To remove this warning, do the following: 1) Pass option use_label_encoder=False when constructing XGBClassifier object; and 2) Encode your labels (y) as integers starting with 0, i.e. 0, 1, 2, ..., [num_class - 1].\n",
      "\n"
     ]
    },
    {
     "name": "stdout",
     "output_type": "stream",
     "text": [
      "[13:43:16] WARNING: C:/Users/Administrator/workspace/xgboost-win64_release_1.3.0/src/learner.cc:1061: Starting in XGBoost 1.3.0, the default evaluation metric used with the objective 'binary:logistic' was changed from 'error' to 'logloss'. Explicitly set eval_metric if you'd like to restore the old behavior.\n"
     ]
    },
    {
     "data": {
      "text/plain": [
       "XGBClassifier(base_score=0.5, booster='gbtree', colsample_bylevel=1,\n",
       "              colsample_bynode=1, colsample_bytree=1, gamma=0, gpu_id=-1,\n",
       "              importance_type='gain', interaction_constraints='',\n",
       "              learning_rate=0.300000012, max_delta_step=0, max_depth=6,\n",
       "              min_child_weight=1, missing=nan, monotone_constraints='()',\n",
       "              n_estimators=300, n_jobs=8, num_parallel_tree=1, random_state=0,\n",
       "              reg_alpha=0, reg_lambda=1, scale_pos_weight=1, subsample=1,\n",
       "              tree_method='exact', validate_parameters=1, verbosity=None)"
      ]
     },
     "execution_count": 30,
     "metadata": {},
     "output_type": "execute_result"
    }
   ],
   "source": [
    "import xgboost as xgb\n",
    "classifier_xgb = xgb.XGBClassifier(n_estimators = 300)\n",
    "classifier_xgb.fit(features_X_train, y_train)"
   ]
  },
  {
   "cell_type": "code",
   "execution_count": 31,
   "id": "inside-cabin",
   "metadata": {},
   "outputs": [
    {
     "name": "stdout",
     "output_type": "stream",
     "text": [
      "1.0\n",
      "0.66\n"
     ]
    }
   ],
   "source": [
    "train_acc_xgb = classifier_xgb.score(features_X_train, y_train)\n",
    "print(train_acc_xgb)\n",
    "test_acc_xgb = classifier_xgb.score(features_X_test, y_test)\n",
    "print(test_acc_xgb)"
   ]
  },
  {
   "cell_type": "code",
   "execution_count": 32,
   "id": "accepting-henry",
   "metadata": {},
   "outputs": [
    {
     "name": "stdout",
     "output_type": "stream",
     "text": [
      "Accuracy: 0.66\n",
      "ROC Area: 0.5832\n",
      "Precision: 0.6508\n",
      "Recall: 0.66\n",
      "F1 Score: 0.6164\n",
      "Cohen Kappa Score: 0.1874\n",
      "Matthews Corrcoef: 0.2203\n",
      "\t\tClassification Report:\n",
      "               precision    recall  f1-score   support\n",
      "\n",
      "           0       0.62      0.26      0.37        19\n",
      "           1       0.67      0.90      0.77        31\n",
      "\n",
      "    accuracy                           0.66        50\n",
      "   macro avg       0.65      0.58      0.57        50\n",
      "weighted avg       0.65      0.66      0.62        50\n",
      "\n"
     ]
    }
   ],
   "source": [
    "y_pred_xgb = classifier_xgb.predict(features_X_test)\n",
    "print_performance_metrics(y_test,y_pred_xgb)"
   ]
  },
  {
   "cell_type": "code",
   "execution_count": 33,
   "id": "static-multiple",
   "metadata": {},
   "outputs": [
    {
     "data": {
      "text/plain": [
       "<AxesSubplot:>"
      ]
     },
     "execution_count": 33,
     "metadata": {},
     "output_type": "execute_result"
    },
    {
     "data": {
      "image/png": "[encoded data removed]",
      "text/plain": [
       "<Figure size 432x288 with 2 Axes>"
      ]
     },
     "metadata": {
      "needs_background": "light"
     },
     "output_type": "display_data"
    }
   ],
   "source": [
    "sns.heatmap(confusion_matrix(y_test, y_pred_xgb), \n",
    "                cmap='Blues', annot=True)"
   ]
  }
 ],
 "metadata": {
  "kernelspec": {
   "display_name": "Python 3.7 (tensorflow)",
   "language": "python",
   "name": "tensorflow"
  },
  "language_info": {
   "codemirror_mode": {
    "name": "ipython",
    "version": 3
   },
   "file_extension": ".py",
   "mimetype": "text/x-python",
   "name": "python",
   "nbconvert_exporter": "python",
   "pygments_lexer": "ipython3",
   "version": "3.7.10"
  }
 },
 "nbformat": 4,
 "nbformat_minor": 5
}
